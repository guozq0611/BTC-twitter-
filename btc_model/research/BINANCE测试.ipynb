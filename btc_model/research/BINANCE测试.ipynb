{
 "cells": [
  {
   "cell_type": "code",
   "execution_count": 5,
   "metadata": {},
   "outputs": [
    {
     "name": "stdout",
     "output_type": "stream",
     "text": [
      "The autoreload extension is already loaded. To reload it, use:\n",
      "  %reload_ext autoreload\n"
     ]
    }
   ],
   "source": [
    "%load_ext autoreload\n",
    "%autoreload 2"
   ]
  },
  {
   "cell_type": "code",
   "execution_count": null,
   "metadata": {},
   "outputs": [],
   "source": [
    "import ccxt\n",
    "from btc_model.setting.setting import get_settings\n",
    "\n",
    "# 获取设置\n",
    "setting = get_settings('cex.binance')\n",
    "\n",
    "\n",
    "apikey = setting['apikey']\n",
    "secretkey = setting['secretkey']\n",
    "\n",
    "\n",
    "# 初始化币安交易所\n",
    "params = {\n",
    "    'enableRateLimit': True,\n",
    "    'proxies': {\n",
    "        'http': None,                  \n",
    "        'https': None,\n",
    "    },\n",
    "    'apiKey': apikey,          \n",
    "    'secret': secretkey,       \n",
    "    'options': {\n",
    "        'defaultType': 'spot',  # 可选：'spot', 'margin', 'future'\n",
    "    }\n",
    "}\n",
    "\n",
    "# 创建交易所实例 - 注意这里是 binance 而不是 binane\n",
    "exchange = ccxt.binance(params)\n",
    "\n",
    "# 设置为测试网模式\n",
    "exchange.set_sandbox_mode(True)\n",
    "\n",
    "try:\n",
    "    # 加载市场数据\n",
    "    exchange.load_markets()\n",
    "\n",
    "    # 获取账户余额\n",
    "    balance = exchange.fetch_balance()\n",
    "    \n",
    "    print(\"=== 测试网账户余额 ===\")\n",
    "    for currency in balance['total']:\n",
    "        if balance['total'][currency] > 0:\n",
    "            print(f\"{currency}:\")\n",
    "            print(f\"  可用: {balance['free'][currency]}\")\n",
    "            print(f\"  冻结: {balance['used'][currency]}\")\n",
    "            print(f\"  总额: {balance['total'][currency]}\")\n",
    "\n",
    "    # 获取特定交易对的行情\n",
    "    ticker = exchange.fetch_ticker('BTC/USDT')\n",
    "    print(\"\\n=== BTC/USDT 行情 ===\")\n",
    "    print(f\"最新价: {ticker['last']}\")\n",
    "    print(f\"买一价: {ticker['bid']}\")\n",
    "    print(f\"卖一价: {ticker['ask']}\")\n",
    "\n",
    "except Exception as e:\n",
    "    print(f\"错误: {str(e)}\")"
   ]
  }
 ],
 "metadata": {
  "kernelspec": {
   "display_name": ".venv",
   "language": "python",
   "name": "python3"
  },
  "language_info": {
   "codemirror_mode": {
    "name": "ipython",
    "version": 3
   },
   "file_extension": ".py",
   "mimetype": "text/x-python",
   "name": "python",
   "nbconvert_exporter": "python",
   "pygments_lexer": "ipython3",
   "version": "3.9.6"
  }
 },
 "nbformat": 4,
 "nbformat_minor": 2
}
