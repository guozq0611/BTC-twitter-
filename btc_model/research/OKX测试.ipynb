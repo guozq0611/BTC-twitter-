{
 "cells": [
  {
   "cell_type": "code",
   "execution_count": 1,
   "metadata": {},
   "outputs": [],
   "source": [
    "%load_ext autoreload\n",
    "%autoreload 2"
   ]
  },
  {
   "cell_type": "code",
   "execution_count": 2,
   "metadata": {},
   "outputs": [
    {
     "name": "stderr",
     "output_type": "stream",
     "text": [
      "/Users/Jason/work/source/03_ThorpAI/.venv/lib/python3.9/site-packages/urllib3/__init__.py:35: NotOpenSSLWarning: urllib3 v2 only supports OpenSSL 1.1.1+, currently the 'ssl' module is compiled with 'LibreSSL 2.8.3'. See: https://github.com/urllib3/urllib3/issues/3020\n",
      "  warnings.warn(\n"
     ]
    }
   ],
   "source": [
    "import ccxt\n",
    "from btc_model.setting.setting import get_settings\n",
    "from btc_model.core.util.crypto_util import CryptoUtil\n"
   ]
  },
  {
   "cell_type": "code",
   "execution_count": 6,
   "metadata": {},
   "outputs": [],
   "source": [
    "# 获取设置\n",
    "setting = get_settings('cex.okx')\n",
    "\n",
    "apikey = setting['apikey']\n",
    "secretkey = setting['secretkey']\n",
    "passphrase = setting['passphrase']\n",
    "proxy = setting['proxy']\n",
    "\n",
    "# 初始化币安交易所\n",
    "params = {\n",
    "    'enableRateLimit': True,\n",
    "    'proxies': {\n",
    "        'http': get_settings('common')['proxies']['http'],                  \n",
    "        'https': get_settings('common')['proxies']['https'],\n",
    "    },\n",
    "    'apiKey': apikey,          \n",
    "    'secret': secretkey,  \n",
    "    'password': passphrase,     \n",
    "    'options': {\n",
    "        'defaultType': 'spot',  # 可选：'spot', 'margin', 'future'\n",
    "    },\n",
    "    #  'headers': {\n",
    "    #     'x-simulated-trading': '1'\n",
    "    # }\n",
    "}\n",
    "\n",
    "exchange = ccxt.okx(params)\n",
    "\n",
    "# exchange.set_sandbox_mode(True)"
   ]
  },
  {
   "cell_type": "code",
   "execution_count": 59,
   "metadata": {},
   "outputs": [
    {
     "name": "stdout",
     "output_type": "stream",
     "text": [
      "=== 模拟账户余额 ===\n",
      "USDT:\n",
      "  可用: 70.5004472\n",
      "  冻结: 0.0\n",
      "  总额: 70.5004472\n",
      "LSK:\n",
      "  可用: 1.99\n",
      "  冻结: 0.0\n",
      "  总额: 1.99\n"
     ]
    }
   ],
   "source": [
    "try:\n",
    "    # 获取账户余额\n",
    "    balance = exchange.fetch_balance({\n",
    "        'type': 'trading'\n",
    "    })\n",
    "    \n",
    "    print(\"=== 模拟账户余额 ===\")\n",
    "    for currency in balance['total']:\n",
    "        if balance['total'][currency] > 0:\n",
    "            print(f\"{currency}:\")\n",
    "            print(f\"  可用: {balance['free'][currency]}\")\n",
    "            print(f\"  冻结: {balance['used'][currency]}\")\n",
    "            print(f\"  总额: {balance['total'][currency]}\")\n",
    "\n",
    "except Exception as e:\n",
    "    print(f\"错误: {str(e)}\")\n"
   ]
  },
  {
   "cell_type": "code",
   "execution_count": 13,
   "metadata": {},
   "outputs": [
    {
     "name": "stdout",
     "output_type": "stream",
     "text": [
      "现货限价单: {'info': {'clOrdId': 'e847386590ce4dBC141ae60e0dd45f79', 'ordId': '2291432507889983488', 'sCode': '0', 'sMsg': 'Order placed', 'tag': 'e847386590ce4dBC', 'ts': '1740792410329'}, 'id': '2291432507889983488', 'clientOrderId': 'e847386590ce4dBC141ae60e0dd45f79', 'timestamp': None, 'datetime': None, 'lastTradeTimestamp': None, 'lastUpdateTimestamp': None, 'symbol': 'BTC/USDT', 'type': 'limit', 'timeInForce': None, 'postOnly': None, 'side': 'buy', 'price': None, 'stopLossPrice': None, 'takeProfitPrice': None, 'triggerPrice': None, 'average': None, 'cost': None, 'amount': None, 'filled': None, 'remaining': None, 'status': None, 'fee': None, 'trades': [], 'reduceOnly': False, 'fees': [], 'stopPrice': None}\n",
      "下单错误: okx {\"code\":\"1\",\"data\":[{\"clOrdId\":\"e847386590ce4dBCa9ceb4399b2cbf5a\",\"ordId\":\"\",\"sCode\":\"51010\",\"sMsg\":\"You can't complete this request under your current account mode. \",\"tag\":\"e847386590ce4dBC\",\"ts\":\"1740792410713\"}],\"inTime\":\"1740792410713393\",\"msg\":\"All operations failed\",\"outTime\":\"1740792410714120\"}\n"
     ]
    }
   ],
   "source": [
    "\n",
    "try:\n",
    "    # 现货限价单\n",
    "    def place_spot_limit_order(symbol, side, amount, price):\n",
    "        \"\"\"\n",
    "        symbol: 交易对，如 'BTC/USDT'\n",
    "        side: 'buy' 或 'sell'\n",
    "        amount: 数量\n",
    "        price: 价格\n",
    "        \"\"\"\n",
    "        order = exchange.create_order(\n",
    "            symbol=symbol,\n",
    "            type='limit',\n",
    "            side=side,\n",
    "            amount=amount,\n",
    "            price=price\n",
    "        )\n",
    "        return order\n",
    "\n",
    "    # 现货市价单\n",
    "    def place_spot_market_order(symbol, side, amount):\n",
    "        order = exchange.create_order(\n",
    "            symbol=symbol,\n",
    "            type='market',\n",
    "            side=side,\n",
    "            amount=amount\n",
    "        )\n",
    "        return order\n",
    "\n",
    "    # 永续合约限价单\n",
    "    def place_swap_limit_order(symbol, side, amount, price, leverage=1):\n",
    "        \"\"\"\n",
    "        symbol: 交易对，如 'BTC/USDT:USDT'\n",
    "        side: 'buy' 或 'sell'\n",
    "        amount: 合约数量\n",
    "        price: 价格\n",
    "        leverage: 杠杆倍数\n",
    "        \"\"\"\n",
    "        # 设置杠杆\n",
    "        exchange.set_leverage(leverage, symbol)\n",
    "        \n",
    "        order = exchange.create_order(\n",
    "            symbol=symbol,\n",
    "            type='limit',\n",
    "            side=side,\n",
    "            amount=amount,\n",
    "            price=price,\n",
    "            params={\n",
    "                'tdMode': 'cross',  # 全仓模式，'isolated' 为逐仓模式\n",
    "                'posSide': 'long'   # 持仓方向，'long' 或 'short'\n",
    "            }\n",
    "        )\n",
    "        return order\n",
    "\n",
    "\n",
    "    # 示例使用\n",
    "    # 现货限价买入\n",
    "    min_amount = 0.01  # 假设最小交易量为 0.01\n",
    "    spot_order = place_spot_limit_order(\n",
    "        symbol='BTC/USDT',\n",
    "        side='buy',\n",
    "        amount=min_amount,  # 使用最小交易量\n",
    "        price=40000         # 价格 40000 USDT\n",
    "    )\n",
    "    print(\"现货限价单:\", spot_order)\n",
    "\n",
    "    # 永续合约开多\n",
    "    swap_order = place_swap_limit_order(\n",
    "        symbol='BTC/USDT:USDT',\n",
    "        side='buy',\n",
    "        amount=min_amount,  # 使用最小交易量\n",
    "        price=40000,\n",
    "        leverage=2          # 2倍杠杆\n",
    "    )\n",
    "    print(\"永续合约限价单:\", swap_order)\n",
    "\n",
    "except Exception as e:\n",
    "    print(f\"下单错误: {str(e)}\")\n",
    "\n",
    "# 查询订单状态\n",
    "def check_order_status(order_id, symbol):\n",
    "    try:\n",
    "        order = exchange.fetch_order(order_id, symbol)\n",
    "        print(f\"订单状态: {order['status']}\")\n",
    "        return order\n",
    "    except Exception as e:\n",
    "        print(f\"查询订单错误: {str(e)}\")\n",
    "        return None\n",
    "\n",
    "# 取消订单\n",
    "def cancel_order(order_id, symbol):\n",
    "    try:\n",
    "        result = exchange.cancel_order(order_id, symbol)\n",
    "        print(\"订单已取消\")\n",
    "        return result\n",
    "    except Exception as e:\n",
    "        print(f\"取消订单错误: {str(e)}\")\n",
    "        return None"
   ]
  },
  {
   "cell_type": "code",
   "execution_count": 14,
   "metadata": {},
   "outputs": [
    {
     "name": "stdout",
     "output_type": "stream",
     "text": [
      "现货市价单: {'info': {'clOrdId': 'e847386590ce4dBCbeca8fa4f69eac40', 'ordId': '2291433857851891712', 'sCode': '0', 'sMsg': 'Order placed', 'tag': 'e847386590ce4dBC', 'ts': '1740792450561'}, 'id': '2291433857851891712', 'clientOrderId': 'e847386590ce4dBCbeca8fa4f69eac40', 'timestamp': None, 'datetime': None, 'lastTradeTimestamp': None, 'lastUpdateTimestamp': None, 'symbol': 'BTC/USDT', 'type': 'market', 'timeInForce': None, 'postOnly': None, 'side': 'buy', 'price': None, 'stopLossPrice': None, 'takeProfitPrice': None, 'triggerPrice': None, 'average': None, 'cost': None, 'amount': None, 'filled': None, 'remaining': None, 'status': None, 'fee': None, 'trades': [], 'reduceOnly': False, 'fees': [], 'stopPrice': None}\n"
     ]
    }
   ],
   "source": [
    "# 现货市价单\n",
    "def place_spot_market_order(symbol, side, amount):\n",
    "    order = exchange.create_order(\n",
    "        symbol=symbol,\n",
    "        type='market',\n",
    "        side=side,\n",
    "        amount=amount\n",
    "    )\n",
    "    return order\n",
    "\n",
    "# 示例使用\n",
    "try:\n",
    "    # 使用市价单买入\n",
    "    market_order = place_spot_market_order(\n",
    "        symbol='BTC/USDT',\n",
    "        side='buy',\n",
    "        amount=0.01  # 确保数量符合最小交易量\n",
    "    )\n",
    "    print(\"现货市价单:\", market_order)\n",
    "\n",
    "except Exception as e:\n",
    "    print(f\"下单错误: {str(e)}\")"
   ]
  },
  {
   "cell_type": "code",
   "execution_count": 4,
   "metadata": {},
   "outputs": [],
   "source": [
    "crypto_util = CryptoUtil.get_instance()"
   ]
  },
  {
   "cell_type": "code",
   "execution_count": 9,
   "metadata": {},
   "outputs": [
    {
     "data": {
      "text/plain": [
       "{}"
      ]
     },
     "execution_count": 9,
     "metadata": {},
     "output_type": "execute_result"
    }
   ],
   "source": [
    "crypto_util.get_funding_rate(exchange=exchange, symbol='LSK/USDT:USDT')"
   ]
  },
  {
   "cell_type": "code",
   "execution_count": null,
   "metadata": {},
   "outputs": [],
   "source": [
    "crypto_util.get_perpetual_markets(exchange=exchange)"
   ]
  },
  {
   "cell_type": "code",
   "execution_count": 5,
   "metadata": {},
   "outputs": [],
   "source": [
    "markets = exchange.load_markets()"
   ]
  },
  {
   "cell_type": "code",
   "execution_count": 6,
   "metadata": {},
   "outputs": [],
   "source": [
    "perpetual_markets = {}\n",
    "            \n",
    "for symbol, market in markets.items():\n",
    "    # 筛选永续合约\n",
    "    if market.get('swap') and market.get('linear'):\n",
    "        market_info = {\n",
    "            'symbol': symbol,\n",
    "            'base': market['base'],\n",
    "            'quote': market['quote'],\n",
    "            'settle': market.get('settle'),\n",
    "            'leverage': {\n",
    "                'max': market.get('limits', {}).get('leverage', {}).get('max'),\n",
    "                'min': market.get('limits', {}).get('leverage', {}).get('min', 1)\n",
    "            },\n",
    "            'margin_mode': market.get('margin_modes', ['isolated', 'cross']),\n",
    "            'fees': {\n",
    "                'maker': market.get('maker'),\n",
    "                'taker': market.get('taker'),\n",
    "            },\n",
    "            'maintenance_margin': market.get('maintenance_margin_rate'),\n",
    "            'initial_margin': market.get('initial_margin_rate'),\n",
    "            'contract_size': market.get('contractSize', 1),\n",
    "            'precision': {\n",
    "                'price': market['precision']['price'],\n",
    "                'amount': market['precision']['amount']\n",
    "            }\n",
    "        }\n",
    "        perpetual_markets[symbol] = market_info"
   ]
  },
  {
   "cell_type": "code",
   "execution_count": 13,
   "metadata": {},
   "outputs": [
    {
     "data": {
      "text/plain": [
       "{'BTC': {'fee': 0.0, 'networks': {'default': 0.0}},\n",
       " 'LSK': {'fee': 0.08, 'networks': {'default': 0.08}}}"
      ]
     },
     "execution_count": 13,
     "metadata": {},
     "output_type": "execute_result"
    }
   ],
   "source": [
    "crypto_util.get_withdrawal_fees(exchange=exchange, currencies=['BTC', 'LSK'])"
   ]
  },
  {
   "cell_type": "code",
   "execution_count": 14,
   "metadata": {},
   "outputs": [
    {
     "data": {
      "text/plain": [
       "{'info': {'code': '0',\n",
       "  'data': [{'adjEq': '',\n",
       "    'borrowFroz': '',\n",
       "    'details': [{'accAvgPx': '',\n",
       "      'availBal': '70.5004472',\n",
       "      'availEq': '',\n",
       "      'borrowFroz': '',\n",
       "      'cashBal': '70.5004472',\n",
       "      'ccy': 'USDT',\n",
       "      'clSpotInUseAmt': '',\n",
       "      'crossLiab': '',\n",
       "      'disEq': '70.44052181987999',\n",
       "      'eq': '70.5004472',\n",
       "      'eqUsd': '70.44052181987999',\n",
       "      'fixedBal': '0',\n",
       "      'frozenBal': '0',\n",
       "      'imr': '',\n",
       "      'interest': '',\n",
       "      'isoEq': '0',\n",
       "      'isoLiab': '',\n",
       "      'isoUpl': '',\n",
       "      'liab': '',\n",
       "      'maxLoan': '',\n",
       "      'maxSpotInUse': '',\n",
       "      'mgnRatio': '',\n",
       "      'mmr': '',\n",
       "      'notionalLever': '',\n",
       "      'openAvgPx': '',\n",
       "      'ordFrozen': '0',\n",
       "      'rewardBal': '',\n",
       "      'smtSyncEq': '0',\n",
       "      'spotBal': '',\n",
       "      'spotCopyTradingEq': '0',\n",
       "      'spotInUseAmt': '',\n",
       "      'spotIsoBal': '0',\n",
       "      'spotUpl': '',\n",
       "      'spotUplRatio': '',\n",
       "      'stgyEq': '0',\n",
       "      'totalPnl': '',\n",
       "      'totalPnlRatio': '',\n",
       "      'twap': '0',\n",
       "      'uTime': '1740921226157',\n",
       "      'upl': '',\n",
       "      'uplLiab': ''},\n",
       "     {'accAvgPx': '0.6781111971336686',\n",
       "      'availBal': '1.99',\n",
       "      'availEq': '',\n",
       "      'borrowFroz': '',\n",
       "      'cashBal': '1.99',\n",
       "      'ccy': 'LSK',\n",
       "      'clSpotInUseAmt': '',\n",
       "      'crossLiab': '',\n",
       "      'disEq': '0.904256',\n",
       "      'eq': '1.99',\n",
       "      'eqUsd': '1.13032',\n",
       "      'fixedBal': '0',\n",
       "      'frozenBal': '0',\n",
       "      'imr': '',\n",
       "      'interest': '',\n",
       "      'isoEq': '0',\n",
       "      'isoLiab': '',\n",
       "      'isoUpl': '',\n",
       "      'liab': '',\n",
       "      'maxLoan': '',\n",
       "      'maxSpotInUse': '',\n",
       "      'mgnRatio': '',\n",
       "      'mmr': '',\n",
       "      'notionalLever': '',\n",
       "      'openAvgPx': '0.669458908',\n",
       "      'ordFrozen': '0',\n",
       "      'rewardBal': '',\n",
       "      'smtSyncEq': '0',\n",
       "      'spotBal': '1.99',\n",
       "      'spotCopyTradingEq': '0',\n",
       "      'spotInUseAmt': '',\n",
       "      'spotIsoBal': '0',\n",
       "      'spotUpl': '-0.20190322692',\n",
       "      'spotUplRatio': '-0.1515536006580407',\n",
       "      'stgyEq': '0',\n",
       "      'totalPnl': '-0.2191212822960003',\n",
       "      'totalPnlRatio': '-0.1623792640485827',\n",
       "      'twap': '0',\n",
       "      'uTime': '1740921226157',\n",
       "      'upl': '',\n",
       "      'uplLiab': ''}],\n",
       "    'imr': '',\n",
       "    'isoEq': '',\n",
       "    'mgnRatio': '',\n",
       "    'mmr': '',\n",
       "    'notionalUsd': '',\n",
       "    'notionalUsdForBorrow': '',\n",
       "    'notionalUsdForFutures': '',\n",
       "    'notionalUsdForOption': '',\n",
       "    'notionalUsdForSwap': '',\n",
       "    'ordFroz': '',\n",
       "    'totalEq': '71.57084181987999',\n",
       "    'uTime': '1741101889545',\n",
       "    'upl': ''}],\n",
       "  'msg': ''},\n",
       " 'USDT': {'free': 70.5004472, 'used': 0.0, 'total': 70.5004472},\n",
       " 'LSK': {'free': 1.99, 'used': 0.0, 'total': 1.99},\n",
       " 'timestamp': 1741101889545,\n",
       " 'datetime': '2025-03-04T15:24:49.545Z',\n",
       " 'free': {'USDT': 70.5004472, 'LSK': 1.99},\n",
       " 'used': {'USDT': 0.0, 'LSK': 0.0},\n",
       " 'total': {'USDT': 70.5004472, 'LSK': 1.99}}"
      ]
     },
     "execution_count": 14,
     "metadata": {},
     "output_type": "execute_result"
    }
   ],
   "source": [
    "exchange.fetch_balance()"
   ]
  },
  {
   "cell_type": "code",
   "execution_count": 17,
   "metadata": {},
   "outputs": [
    {
     "data": {
      "text/plain": [
       "[]"
      ]
     },
     "execution_count": 17,
     "metadata": {},
     "output_type": "execute_result"
    }
   ],
   "source": [
    "exchange.fetch_positions()"
   ]
  }
 ],
 "metadata": {
  "kernelspec": {
   "display_name": ".venv",
   "language": "python",
   "name": "python3"
  },
  "language_info": {
   "codemirror_mode": {
    "name": "ipython",
    "version": 3
   },
   "file_extension": ".py",
   "mimetype": "text/x-python",
   "name": "python",
   "nbconvert_exporter": "python",
   "pygments_lexer": "ipython3",
   "version": "3.11.3"
  }
 },
 "nbformat": 4,
 "nbformat_minor": 2
}
