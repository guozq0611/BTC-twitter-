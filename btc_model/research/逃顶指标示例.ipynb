{
 "cells": [
  {
   "cell_type": "code",
   "execution_count": 1,
   "metadata": {},
   "outputs": [
    {
     "name": "stderr",
     "output_type": "stream",
     "text": [
      "/Users/Jason/work/source/03_ThorpAI/.venv/lib/python3.9/site-packages/urllib3/__init__.py:35: NotOpenSSLWarning: urllib3 v2 only supports OpenSSL 1.1.1+, currently the 'ssl' module is compiled with 'LibreSSL 2.8.3'. See: https://github.com/urllib3/urllib3/issues/3020\n",
      "  warnings.warn(\n"
     ]
    }
   ],
   "source": [
    "import pandas as pd\n",
    "import numpy as np\n",
    "import backtrader as bt\n",
    "import matplotlib.pyplot as plt\n",
    "import pyfolio as pf\n",
    "import quantstats as qs\n",
    "import mplfinance as mpf\n",
    "import pyarrow as pa\n",
    "import pyarrow.parquet as pq\n",
    "import talib as ta\n",
    "import importlib"
   ]
  },
  {
   "cell_type": "code",
   "execution_count": 7,
   "metadata": {},
   "outputs": [],
   "source": [
    "import sys\n",
    "sys.path.append('/Users/Jason/work/source/03_ThorpAI')"
   ]
  },
  {
   "cell_type": "code",
   "execution_count": 12,
   "metadata": {},
   "outputs": [],
   "source": [
    "from btc_model.core.update_data.okx_downloader import OKxDownloader\n",
    "\n",
    "from btc_model.setting.setting import get_settings\n",
    "from btc_model.core.common.const import PROJECT_NAME, Interval\n",
    "from btc_model.core.util.file_util import FileUtil\n",
    "\n",
    "\n",
    "from btc_model.core.common.const import PROJECT_NAME\n",
    "from btc_model.core.common.const import (Exchange,\n",
    "                                         Interval,\n",
    "                                         InstrumentType,\n",
    "                                         Product,\n",
    "                                         ProviderType,\n",
    "                                         EntityType\n",
    "                                         )\n",
    "from btc_model.core.common.context import Context\n",
    "from btc_model.core.update_data.okx_downloader import OKxDownloader\n",
    "from btc_model.core.update_data.binance_downloader import BinanceDownloader\n",
    "from btc_model.core.data_loader.crypto_data_loader import CryptoDataLoader\n",
    "from btc_model.core.util.log_util import Logger\n",
    "from btc_model.core.util.file_util import FileUtil\n",
    "from btc_model.setting.setting import get_settings\n",
    "\n",
    "from btc_model.indicator.base_indicator import BaseIndicator\n",
    "from btc_model.indicator.indicator_bollinger import IndicatorBollinger\n",
    "from btc_model.indicator.indicator_macd import IndicatorMACD\n",
    "from btc_model.indicator.indicator_mayer_multiple import IndicatorMayerMultiple\n",
    "from btc_model.indicator.indicator_pi_cycle import IndicatorPiCycle\n",
    "from btc_model.indicator.indicator_rsi import IndicatorRSI\n"
   ]
  },
  {
   "cell_type": "code",
   "execution_count": 10,
   "metadata": {},
   "outputs": [],
   "source": [
    "data_directory = FileUtil.get_project_dir(project_name=PROJECT_NAME, sub_dir='data')"
   ]
  },
  {
   "cell_type": "code",
   "execution_count": null,
   "metadata": {},
   "outputs": [],
   "source": [
    "# 更新了 CryptoDataLoader 的代码后，重新加载模块\n",
    "import btc_model.core.data_loader.crypto_data_loader\n",
    "importlib.reload(btc_model.core.data_loader.crypto_data_loader)"
   ]
  },
  {
   "cell_type": "code",
   "execution_count": 13,
   "metadata": {},
   "outputs": [],
   "source": [
    "data_loader = CryptoDataLoader(data_directory)\n",
    "df_instruments = data_loader.load_instruments(exchange=Exchange.OKX)\n",
    "df_indicator = data_loader.load_indicator_data(exchange=Exchange.OKX, interval=Interval.DAILY, provider_type=ProviderType.OKX)\n",
    "df_indicator = df_indicator[df_indicator['symbol_id'] == 'BTC-USDT']"
   ]
  },
  {
   "cell_type": "code",
   "execution_count": null,
   "metadata": {},
   "outputs": [],
   "source": [
    "df_indicator"
   ]
  },
  {
   "cell_type": "code",
   "execution_count": null,
   "metadata": {},
   "outputs": [],
   "source": [
    "import san"
   ]
  }
 ],
 "metadata": {
  "kernelspec": {
   "display_name": ".venv",
   "language": "python",
   "name": "python3"
  },
  "language_info": {
   "codemirror_mode": {
    "name": "ipython",
    "version": 3
   },
   "file_extension": ".py",
   "mimetype": "text/x-python",
   "name": "python",
   "nbconvert_exporter": "python",
   "pygments_lexer": "ipython3",
   "version": "3.9.6"
  }
 },
 "nbformat": 4,
 "nbformat_minor": 2
}
